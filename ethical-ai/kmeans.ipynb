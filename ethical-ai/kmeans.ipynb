{
 "cells": [
  {
   "cell_type": "markdown",
   "metadata": {},
   "source": [
    "# Attempt to KMeans cluster imagery"
   ]
  },
  {
   "cell_type": "code",
   "execution_count": null,
   "metadata": {},
   "outputs": [],
   "source": [
    "from pathlib import Path\n",
    "import random\n",
    "\n",
    "import numpy as np\n",
    "import pandas as pd\n",
    "import matplotlib.pyplot as plt\n",
    "import seaborn as sns\n",
    "import rasterio\n",
    "from rasterio.plot import show\n",
    "from rasterio.windows import Window\n",
    "from skimage.color import rgb2gray\n",
    "from skimage.feature import shape_index\n",
    "from sklearn.cluster import MiniBatchKMeans, KMeans\n",
    "from sklearn.decomposition import IncrementalPCA, PCA\n",
    "from skimage.exposure import cumulative_distribution, histogram"
   ]
  },
  {
   "cell_type": "markdown",
   "metadata": {},
   "source": [
    "## Let's get all TIFs as Paths"
   ]
  },
  {
   "cell_type": "code",
   "execution_count": null,
   "metadata": {},
   "outputs": [],
   "source": [
    "test_dir = Path(\"../data/test\")\n",
    "test_paths = [sub / f\"{sub.name}.tif\" for sub in test_dir.iterdir() if \"catalog\" not in sub.name]\n",
    "\n",
    "train_dir = Path(\"../data/split/\")\n",
    "train_paths = []\n",
    "for area in train_dir.iterdir():\n",
    "    for sub in area.iterdir():\n",
    "        for tif in sub.iterdir():\n",
    "            train_paths.append(tif)"
   ]
  },
  {
   "cell_type": "code",
   "execution_count": null,
   "metadata": {},
   "outputs": [],
   "source": [
    "im = rasterio.open(random.choice(test_paths)).read([1, 2, 3])\n",
    "print(im.shape)\n",
    "show(im)"
   ]
  },
  {
   "cell_type": "markdown",
   "metadata": {},
   "source": [
    "## Ideas\n",
    "Can't do KMeans or PCA on whole images (too many dimensions!) so need to manually reduce (?) to e.g. a DF with columns. Some ideas:\n",
    "1. Average R, G, B values\n",
    "2. Mean of shape_index\n",
    "4. Histogram + CDF\n",
    "5. Lay the image flat and do PCA on that...\n",
    "\n",
    "Then do PCA then do KMeans!"
   ]
  },
  {
   "cell_type": "markdown",
   "metadata": {},
   "source": [
    "## Create DF with values on test set"
   ]
  },
  {
   "cell_type": "code",
   "execution_count": null,
   "metadata": {},
   "outputs": [],
   "source": [
    "def reduce_im(im):\n",
    "    im = np.moveaxis(im, 0, -1)\n",
    "    gray = rgb2gray(im)\n",
    "    return {\n",
    "        \"R\": np.median(im[:, :, 0]),\n",
    "        \"G\": np.median(im[:, :, 1]),\n",
    "        \"B\": np.median(im[:, :, 2]),\n",
    "        \"shape\": np.sum(shape_index(gray)),\n",
    "        \"hist\": np.sum(histogram(gray)[0])\n",
    "    }"
   ]
  },
  {
   "cell_type": "code",
   "execution_count": null,
   "metadata": {},
   "outputs": [],
   "source": [
    "def make_windows(width, height, win_size=1024):\n",
    "    wins = []\n",
    "    for c in list(range(0, width, win_size)):\n",
    "        if c >= width:\n",
    "            continue\n",
    "        if (c + win_size) > width:\n",
    "            win_width = width - c - 1\n",
    "        else:\n",
    "            win_width = win_size\n",
    "        for r in list(range(0, height, win_size)):\n",
    "            if r >= height:\n",
    "                continue\n",
    "            if (r + win_size) > height:\n",
    "                win_height = height - r - 1\n",
    "            else:\n",
    "                win_height = win_size\n",
    "            wins.append(Window(c, r, win_width, win_height))\n",
    "    return wins"
   ]
  },
  {
   "cell_type": "code",
   "execution_count": null,
   "metadata": {
    "scrolled": false
   },
   "outputs": [],
   "source": [
    "vals = {}\n",
    "count = 0\n",
    "for tif in test_paths + train_paths:\n",
    "    idd = tif.stem\n",
    "    count += 1\n",
    "    if count % 100 == 0 or count > len(test_paths):\n",
    "        print(idd, count)\n",
    "        \n",
    "    with rasterio.open(tif) as src:\n",
    "        width = src.width\n",
    "        height = src.height\n",
    "        if width > 1024:\n",
    "            wins = make_windows(width, height)\n",
    "            for i, win in enumerate(wins):\n",
    "                im = src.read(window=win)\n",
    "                if len(np.unique(im[-1, :, :])) == 1 and im.shape[1] > 100 and im.shape[2] > 100:\n",
    "                    vals[f\"train_{idd}_{i}\"] = reduce_im(im[0:3, :, :])\n",
    "        else:\n",
    "            im = rasterio.open(tif).read([1, 2, 3])\n",
    "            vals[f\"test_{idd}\"] = reduce_im(im)"
   ]
  },
  {
   "cell_type": "code",
   "execution_count": null,
   "metadata": {},
   "outputs": [],
   "source": [
    "df = pd.DataFrame(index=vals.keys(), data=vals.values())\n",
    "df.to_csv(\"merged.csv\")\n",
    "df.head()"
   ]
  },
  {
   "cell_type": "markdown",
   "metadata": {},
   "source": [
    "## Load saved DF"
   ]
  },
  {
   "cell_type": "code",
   "execution_count": null,
   "metadata": {},
   "outputs": [],
   "source": [
    "df = pd.read_csv(\"merged.csv\", index_col=0)\n",
    "print(len(df))\n",
    "df.head()"
   ]
  },
  {
   "cell_type": "code",
   "execution_count": null,
   "metadata": {},
   "outputs": [],
   "source": [
    "df = df.fillna(0)\n",
    "df = df.loc[df[\"R\"] > 0]\n",
    "df = df.loc[df[\"shape\"] > 0]\n",
    "len(df)"
   ]
  },
  {
   "cell_type": "code",
   "execution_count": null,
   "metadata": {},
   "outputs": [],
   "source": [
    "for i, (idx, row) in enumerate(df.iterrows()):\n",
    "    if \"train\" in idx:\n",
    "        len_test = i\n",
    "        print(i)\n",
    "        break"
   ]
  },
  {
   "cell_type": "markdown",
   "metadata": {},
   "source": [
    "## Now do PCA and KMeans"
   ]
  },
  {
   "cell_type": "code",
   "execution_count": null,
   "metadata": {},
   "outputs": [],
   "source": [
    "df_use = df[[\"R\", \"G\", \"B\"]]\n",
    "X = df_use.fillna(0).to_numpy()\n",
    "\n",
    "pca = PCA(n_components=2)\n",
    "reduced = pca.fit_transform(X)"
   ]
  },
  {
   "cell_type": "code",
   "execution_count": null,
   "metadata": {},
   "outputs": [],
   "source": [
    "kmeans = KMeans(n_clusters=8).fit(reduced)\n",
    "clusters = kmeans.predict(reduced)\n",
    "centers = kmeans.cluster_centers_"
   ]
  },
  {
   "cell_type": "code",
   "execution_count": null,
   "metadata": {
    "scrolled": false
   },
   "outputs": [],
   "source": [
    "fix, ax = plt.subplots(figsize=(24, 24))\n",
    "sns.scatterplot(\n",
    "    x=reduced[:len_test-1,0],\n",
    "    y=reduced[:len_test-1,1],\n",
    "    hue=clusters[:len_test-1],\n",
    "    palette=\"Set2\",\n",
    "    ax=ax,\n",
    ")\n",
    "sns.scatterplot(\n",
    "    x=reduced[len_test:,0],\n",
    "    y=reduced[len_test:,1],\n",
    "    hue=clusters[len_test:],\n",
    "    palette=\"Set2\",\n",
    "    s=100,\n",
    "    marker=\"x\",\n",
    "    ax=ax,\n",
    ")\n",
    "# sns.scatterplot(\n",
    "#     x=centers[:,0],\n",
    "#     y=centers[:,1],\n",
    "#     s=200,\n",
    "#     ax=ax,\n",
    "# )"
   ]
  },
  {
   "cell_type": "code",
   "execution_count": null,
   "metadata": {},
   "outputs": [],
   "source": [
    "com = pd.DataFrame(index=df_use.columns, columns=[\"pca1\", \"pca2\"], data=pca.components_.T)\n",
    "com"
   ]
  },
  {
   "cell_type": "code",
   "execution_count": null,
   "metadata": {},
   "outputs": [],
   "source": []
  }
 ],
 "metadata": {
  "kernelspec": {
   "display_name": "Python 3",
   "language": "python",
   "name": "python3"
  },
  "language_info": {
   "codemirror_mode": {
    "name": "ipython",
    "version": 3
   },
   "file_extension": ".py",
   "mimetype": "text/x-python",
   "name": "python",
   "nbconvert_exporter": "python",
   "pygments_lexer": "ipython3",
   "version": "3.7.3"
  }
 },
 "nbformat": 4,
 "nbformat_minor": 2
}
