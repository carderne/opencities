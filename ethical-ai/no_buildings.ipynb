{
 "cells": [
  {
   "cell_type": "markdown",
   "metadata": {},
   "source": [
    "# Analyze results from first run"
   ]
  },
  {
   "cell_type": "code",
   "execution_count": null,
   "metadata": {},
   "outputs": [],
   "source": [
    "from pathlib import Path\n",
    "import time\n",
    "\n",
    "import numpy as np\n",
    "import rasterio\n",
    "from skimage.color import rgb2gray\n",
    "from tqdm.notebook import tqdm\n",
    "import matplotlib.pyplot as plt\n",
    "from matplotlib.colors import ListedColormap\n",
    "import seaborn as sns"
   ]
  },
  {
   "cell_type": "code",
   "execution_count": null,
   "metadata": {},
   "outputs": [],
   "source": [
    "pred_path = Path(\"../data/predict/attempt3_zero/\")\n",
    "test_path = Path(\"../data/test/\")"
   ]
  },
  {
   "cell_type": "markdown",
   "metadata": {},
   "source": [
    "## Helper functions"
   ]
  },
  {
   "cell_type": "code",
   "execution_count": null,
   "metadata": {},
   "outputs": [],
   "source": [
    "def plot(image, title=\"\", cmap=None, ax=None, vmin=None, vmax=None, size=6, side=False):\n",
    "    \"\"\"Plot an image size 6x6 with a title\"\"\"\n",
    "\n",
    "    if not cmap:\n",
    "        cmap = ListedColormap([\"gray\", \"white\", \"blue\"])\n",
    "        vmin = -1\n",
    "        vmax = 1\n",
    "    if not ax:\n",
    "        fig, ax = plt.subplots(1, 1, figsize=(size, size))\n",
    "\n",
    "    ax.imshow(image, cmap=cmap, vmin=vmin, vmax=vmax)\n",
    "    ax.set_title(title)\n",
    "    ax.set_xticks([], [])\n",
    "    ax.set_yticks([], [])\n",
    "    if not side:\n",
    "        plt.show()"
   ]
  },
  {
   "cell_type": "code",
   "execution_count": null,
   "metadata": {},
   "outputs": [],
   "source": [
    "def sideplot(image1, image2, title1=\"\", title2=\"\", cmap=None, vmin=None, vmax=None, size=6):\n",
    "    \"\"\"Plot two images side by side.\"\"\"\n",
    "\n",
    "    fig, (ax1, ax2) = plt.subplots(1, 2, figsize=(12, 6))\n",
    "    plot(image1, title1, cmap=cmap, ax=ax1, vmin=vmin, vmax=vmax, size=size, side=True)\n",
    "    plot(image2, title2, cmap=cmap, ax=ax2, vmin=vmin, vmax=vmax, size=size, side=True)\n",
    "    plt.show()"
   ]
  },
  {
   "cell_type": "code",
   "execution_count": null,
   "metadata": {
    "scrolled": false
   },
   "outputs": [],
   "source": [
    "def get_chips_less_than(items, lower_bound=0, upper_bound=0):\n",
    "    out_list = []\n",
    "    lower_bound *= 1024*1024/100  # so give in percent eg 2 for 2%\n",
    "    upper_bound *= 1024*1024/100\n",
    "    for it in tqdm(items):\n",
    "        tif = pred_path / f\"{it}.tif\"\n",
    "        with rasterio.open(tif) as rd:\n",
    "            a = rd.read(1)\n",
    "        if np.sum(a) > lower_bound and np.sum(a) <= upper_bound:\n",
    "            out_list.append(it)\n",
    "    return sorted(out_list)"
   ]
  },
  {
   "cell_type": "code",
   "execution_count": null,
   "metadata": {},
   "outputs": [],
   "source": [
    "def save(li, file):\n",
    "    with open(file, \"w\") as f:\n",
    "        for line in li:\n",
    "            print(line, file=f)"
   ]
  },
  {
   "cell_type": "code",
   "execution_count": null,
   "metadata": {},
   "outputs": [],
   "source": [
    "def load(file):\n",
    "    result = []\n",
    "    with open(file) as f:\n",
    "        result = f.readlines()\n",
    "    result = [l.strip() for l in result]\n",
    "    return result"
   ]
  },
  {
   "cell_type": "code",
   "execution_count": null,
   "metadata": {
    "scrolled": false
   },
   "outputs": [],
   "source": [
    "def check(items, start=0, end=-1, size=3, pred=False):\n",
    "    for it in items[start:end]:\n",
    "        tif = test_path / f\"{it}\" / f\"{it}.tif\"\n",
    "        print(it)\n",
    "        with rasterio.open(tif) as rd:\n",
    "            a = np.moveaxis(rd.read([1, 2, 3]), 0, -1)\n",
    "        if pred:\n",
    "            pred_tif = pred_path / f\"{it}.tif\"\n",
    "            with rasterio.open(pred_tif) as rd:\n",
    "                pred_a = rd.read(1)\n",
    "            sideplot(a, pred_a, size=size, cmap=\"viridis\")\n",
    "        else:\n",
    "            plot(a, size=size)"
   ]
  },
  {
   "cell_type": "code",
   "execution_count": null,
   "metadata": {},
   "outputs": [],
   "source": [
    "def histogram(items):\n",
    "    d = []\n",
    "    for it in tqdm(items):\n",
    "        tif = pred_path / f\"{it}.tif\"\n",
    "        with rasterio.open(tif) as rd:\n",
    "            a = rd.read(1)\n",
    "        d.append(np.sum(a) / 1024**2)\n",
    "    return d"
   ]
  },
  {
   "cell_type": "code",
   "execution_count": null,
   "metadata": {},
   "outputs": [],
   "source": [
    "def get_means(items):\n",
    "    result = {}\n",
    "    means = {0: [], 1: [], 2: []}\n",
    "    stds = {0: [], 1: [], 2: []}\n",
    "    for it in tqdm(items):\n",
    "        tif = test_path / it / f\"{it}.tif\"\n",
    "        with rasterio.open(tif) as rd:\n",
    "            a = rd.read([1, 2, 3])\n",
    "            for band in range(3):\n",
    "                means[band].append(np.mean(a[band, :, :]))\n",
    "                stds[band].append(np.std(a[band, :, :]))\n",
    "    means = {key: np.mean(value) for key, value in means.items()}\n",
    "    stds = {key: np.mean(value) for key, value in stds.items()}\n",
    "    return means, stds"
   ]
  },
  {
   "cell_type": "markdown",
   "metadata": {},
   "source": [
    "## Get main list of test items"
   ]
  },
  {
   "cell_type": "code",
   "execution_count": null,
   "metadata": {},
   "outputs": [],
   "source": [
    "test_items = list([t.stem for t in test_path.iterdir() if \"catalog\" not in t.name])\n",
    "len(test_items)"
   ]
  },
  {
   "cell_type": "markdown",
   "metadata": {},
   "source": [
    "## Get list of no buildings predictions and save"
   ]
  },
  {
   "cell_type": "code",
   "execution_count": null,
   "metadata": {},
   "outputs": [],
   "source": [
    "no_buildings = get_chips_less_than(test_items, lower_bound=-1, upper_bound=0)\n",
    "save(no_buildings, \"nob.txt\")\n",
    "len(no_buildings)"
   ]
  },
  {
   "cell_type": "markdown",
   "metadata": {},
   "source": [
    "## Manually check no buildings predictions"
   ]
  },
  {
   "cell_type": "code",
   "execution_count": null,
   "metadata": {},
   "outputs": [],
   "source": [
    "check(no_buildings, start=0, end=10, size=6)"
   ]
  },
  {
   "cell_type": "markdown",
   "metadata": {},
   "source": [
    "## Check preds with <2% buildings?"
   ]
  },
  {
   "cell_type": "code",
   "execution_count": null,
   "metadata": {},
   "outputs": [],
   "source": [
    "no_buildings = load(\"nobuildings.txt\")\n",
    "len(no_buildings)"
   ]
  },
  {
   "cell_type": "code",
   "execution_count": null,
   "metadata": {},
   "outputs": [],
   "source": [
    "less_2pc_buildings = get_chips_less_than(test_items, lower_bound=0, upper_bound=2)\n",
    "len(less_2pc_buildings)"
   ]
  },
  {
   "cell_type": "code",
   "execution_count": null,
   "metadata": {
    "scrolled": false
   },
   "outputs": [],
   "source": [
    "check(no_buildings, start=4300, end=-1, size=3)"
   ]
  },
  {
   "cell_type": "markdown",
   "metadata": {},
   "source": [
    "## Now check higher %s"
   ]
  },
  {
   "cell_type": "code",
   "execution_count": null,
   "metadata": {},
   "outputs": [],
   "source": [
    "higher_buildings = get_chips_less_than(test_items, lower_bound=20, upper_bound=40)\n",
    "len(higher_buildings)"
   ]
  },
  {
   "cell_type": "code",
   "execution_count": null,
   "metadata": {
    "scrolled": false
   },
   "outputs": [],
   "source": [
    "check(higher_buildings, size=3, start=1000, end=-1)"
   ]
  },
  {
   "cell_type": "markdown",
   "metadata": {},
   "source": [
    "## Create histogram"
   ]
  },
  {
   "cell_type": "code",
   "execution_count": null,
   "metadata": {},
   "outputs": [],
   "source": [
    "dist = histogram(test_items)"
   ]
  },
  {
   "cell_type": "code",
   "execution_count": null,
   "metadata": {},
   "outputs": [],
   "source": [
    "fig, ax = plt.subplots(figsize=(12, 6))\n",
    "print(\"Distribution of % building\")\n",
    "sns.distplot(dist, ax=ax)\n",
    "plt.show()"
   ]
  },
  {
   "cell_type": "code",
   "execution_count": null,
   "metadata": {},
   "outputs": [],
   "source": [
    "fig, ax = plt.subplots(figsize=(12, 6))\n",
    "print(\"Distribution of IoU 'points'\")\n",
    "sns.distplot(dist, hist_kws={\"weights\": dist}, ax=ax)\n",
    "plt.show()"
   ]
  },
  {
   "cell_type": "markdown",
   "metadata": {},
   "source": [
    "# Check some stats"
   ]
  },
  {
   "cell_type": "code",
   "execution_count": null,
   "metadata": {},
   "outputs": [],
   "source": [
    "means, stds = get_means(test_items)\n",
    "means, stds"
   ]
  },
  {
   "cell_type": "markdown",
   "metadata": {},
   "source": [
    "## Check predictions"
   ]
  },
  {
   "cell_type": "code",
   "execution_count": null,
   "metadata": {
    "scrolled": false
   },
   "outputs": [],
   "source": [
    "check(test_items, start=0, end=50, size=6, pred=True)"
   ]
  },
  {
   "cell_type": "code",
   "execution_count": null,
   "metadata": {},
   "outputs": [],
   "source": []
  }
 ],
 "metadata": {
  "kernelspec": {
   "display_name": "Python 3",
   "language": "python",
   "name": "python3"
  },
  "language_info": {
   "codemirror_mode": {
    "name": "ipython",
    "version": 3
   },
   "file_extension": ".py",
   "mimetype": "text/x-python",
   "name": "python",
   "nbconvert_exporter": "python",
   "pygments_lexer": "ipython3",
   "version": "3.7.3"
  }
 },
 "nbformat": 4,
 "nbformat_minor": 1
}
