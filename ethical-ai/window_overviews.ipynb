{
 "cells": [
  {
   "cell_type": "markdown",
   "metadata": {},
   "source": [
    "## Create geometry outline of each windowed TIF"
   ]
  },
  {
   "cell_type": "code",
   "execution_count": null,
   "metadata": {},
   "outputs": [],
   "source": [
    "from pathlib import Path\n",
    "\n",
    "import rasterio\n",
    "import geopandas as gpd\n",
    "from shapely.geometry import box"
   ]
  },
  {
   "cell_type": "code",
   "execution_count": null,
   "metadata": {},
   "outputs": [],
   "source": [
    "split_dir = Path(\"../data/split\")\n",
    "out_dir = Path(\"../data/train_tier_1\")"
   ]
  },
  {
   "cell_type": "code",
   "execution_count": null,
   "metadata": {},
   "outputs": [],
   "source": [
    "def create_overview(tif_dir, out_path):\n",
    "    bbs = {}\n",
    "    crs = None\n",
    "    for tif in tif_dir.iterdir():\n",
    "        with rasterio.open(tif) as rd:\n",
    "            b = rd.bounds\n",
    "            crs = rd.crs\n",
    "        bbs[tif.stem.split(\"_\")[-1]] = box(b.left, b.bottom, b.right, b.top)\n",
    "    gdf = gpd.GeoDataFrame(index=bbs.keys(), geometry=list(bbs.values()))\n",
    "    gdf.crs = crs\n",
    "    gdf[\"idd\"] = gdf.index\n",
    "    gdf.to_file(out_path, driver=\"GPKG\")\n",
    "    print(f\"Created for {tif_dir}\")"
   ]
  },
  {
   "cell_type": "code",
   "execution_count": null,
   "metadata": {},
   "outputs": [],
   "source": [
    "for area in split_dir.iterdir():\n",
    "    for tif_dir in area.iterdir():\n",
    "        out_path = out_dir / area.name / f\"{tif_dir.name}-labels\" / \"windows.gpkg\"\n",
    "        create_overview(tif_dir, out_path)"
   ]
  },
  {
   "cell_type": "code",
   "execution_count": null,
   "metadata": {},
   "outputs": [],
   "source": []
  }
 ],
 "metadata": {
  "kernelspec": {
   "display_name": "Python 3",
   "language": "python",
   "name": "python3"
  },
  "language_info": {
   "codemirror_mode": {
    "name": "ipython",
    "version": 3
   },
   "file_extension": ".py",
   "mimetype": "text/x-python",
   "name": "python",
   "nbconvert_exporter": "python",
   "pygments_lexer": "ipython3",
   "version": "3.7.3"
  }
 },
 "nbformat": 4,
 "nbformat_minor": 2
}
